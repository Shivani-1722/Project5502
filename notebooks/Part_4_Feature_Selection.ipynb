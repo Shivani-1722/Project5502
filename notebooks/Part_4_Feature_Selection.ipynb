{
  "nbformat": 4,
  "nbformat_minor": 0,
  "metadata": {
    "colab": {
      "provenance": []
    },
    "kernelspec": {
      "name": "python3",
      "display_name": "Python 3"
    },
    "language_info": {
      "name": "python"
    }
  },
  "cells": [
    {
      "cell_type": "markdown",
      "source": [
        "# Part 4 - Feature Selection"
      ],
      "metadata": {
        "id": "3zeC15Wmj7co"
      }
    },
    {
      "cell_type": "code",
      "source": [
        "# get data\n",
        "import pandas as pd\n",
        "\n",
        "# df = pd.read_csv('.../prepared_data.csv')\n",
        "df = pd.read_csv('/content/drive/MyDrive/make_me_data_science_v.csv')\n",
        "print(df.shape)\n",
        "print(df.info())\n",
        "df.head()"
      ],
      "metadata": {
        "colab": {
          "base_uri": "https://localhost:8080/",
          "height": 1000
        },
        "id": "P3PeZvm2g5Ra",
        "outputId": "a88c9a81-33a5-4e70-ba73-d103954ff542"
      },
      "execution_count": null,
      "outputs": [
        {
          "output_type": "stream",
          "name": "stdout",
          "text": [
            "(1000, 44)\n",
            "<class 'pandas.core.frame.DataFrame'>\n",
            "RangeIndex: 1000 entries, 0 to 999\n",
            "Data columns (total 44 columns):\n",
            " #   Column                             Non-Null Count  Dtype  \n",
            "---  ------                             --------------  -----  \n",
            " 0   binary                             1000 non-null   int64  \n",
            " 1   given_name                         1000 non-null   float64\n",
            " 2   surname                            1000 non-null   float64\n",
            " 3   date_of_birth                      1000 non-null   float64\n",
            " 4   phone_number                       1000 non-null   float64\n",
            " 5   email                              1000 non-null   float64\n",
            " 6   address                            1000 non-null   float64\n",
            " 7   city                               1000 non-null   float64\n",
            " 8   state                              1000 non-null   float64\n",
            " 9   zipcode                            1000 non-null   float64\n",
            " 10  pd qcut3                           1000 non-null   float64\n",
            " 11  random choice 7                    1000 non-null   float64\n",
            " 12  correlated w target 1              1000 non-null   float64\n",
            " 13  duplicate_1                        1000 non-null   float64\n",
            " 14  random choice 2                    1000 non-null   int64  \n",
            " 15  informative_2                      1000 non-null   float64\n",
            " 16  multicollinearity 3                1000 non-null   float64\n",
            " 17  pd qcut1                           1000 non-null   int64  \n",
            " 18  correlated w target 2              1000 non-null   float64\n",
            " 19  target                             1000 non-null   float64\n",
            " 20  uniform corr 2                     1000 non-null   float64\n",
            " 21  multicollinearity 4                1000 non-null   float64\n",
            " 22  uniform corr 1                     1000 non-null   float64\n",
            " 23  random label num 13                1000 non-null   float64\n",
            " 24  outliers 2                         1000 non-null   float64\n",
            " 25  corr_feature_class                 1000 non-null   float64\n",
            " 26  multicollinearity 1                1000 non-null   float64\n",
            " 27  outliers 1                         1000 non-null   float64\n",
            " 28  multicollinearity 2                1000 non-null   float64\n",
            " 29  standard scaling                   1000 non-null   float64\n",
            " 30  min max scaling                    1000 non-null   float64\n",
            " 31  class                              1000 non-null   float64\n",
            " 32  semi_constant_1_q_const_0_1        1000 non-null   float64\n",
            " 33  semi_constant_1_q_const_0_2        1000 non-null   float64\n",
            " 34  semi_constant_2_q_const_0_1        1000 non-null   float64\n",
            " 35  semi_constant_2_q_const_0_2        1000 non-null   float64\n",
            " 36  pd qcut2_Q2                        1000 non-null   float64\n",
            " 37  pd qcut2_Q3                        1000 non-null   float64\n",
            " 38  pd qcut2_Q4                        1000 non-null   float64\n",
            " 39  random choice 4_North              1000 non-null   float64\n",
            " 40  random choice 4_South              1000 non-null   float64\n",
            " 41  random choice 4_West               1000 non-null   float64\n",
            " 42  random label num 3_label num lo 2  1000 non-null   float64\n",
            " 43  random label num 3_label num lo 3  1000 non-null   float64\n",
            "dtypes: float64(41), int64(3)\n",
            "memory usage: 343.9 KB\n",
            "None\n"
          ]
        },
        {
          "output_type": "execute_result",
          "data": {
            "text/plain": [
              "   binary  given_name  surname  date_of_birth  phone_number  email  address  \\\n",
              "0       0       0.512    0.007          0.001         0.001  0.001    0.001   \n",
              "1       0       0.004    0.003          0.001         0.001  0.001    0.001   \n",
              "2       0       0.003    0.001          0.052         0.001  0.001    0.001   \n",
              "3       0       0.003    0.010          0.001         0.001  0.001    0.001   \n",
              "4       0       0.512    0.001          0.001         0.001  0.001    0.001   \n",
              "\n",
              "    city  state  zipcode  ...  semi_constant_2_q_const_0_1  \\\n",
              "0  0.001  0.574    0.382  ...                          0.0   \n",
              "1  0.376  0.574    0.001  ...                          0.0   \n",
              "2  0.001  0.007    0.001  ...                          0.0   \n",
              "3  0.001  0.008    0.382  ...                          0.0   \n",
              "4  0.376  0.007    0.001  ...                          0.0   \n",
              "\n",
              "   semi_constant_2_q_const_0_2  pd qcut2_Q2  pd qcut2_Q3  pd qcut2_Q4  \\\n",
              "0                          0.0          1.0          0.0          0.0   \n",
              "1                          0.0          0.0          1.0          0.0   \n",
              "2                          0.0          0.0          1.0          0.0   \n",
              "3                          0.0          1.0          0.0          0.0   \n",
              "4                          0.0          1.0          0.0          0.0   \n",
              "\n",
              "   random choice 4_North  random choice 4_South  random choice 4_West  \\\n",
              "0                    0.0                    0.0                   0.0   \n",
              "1                    1.0                    0.0                   0.0   \n",
              "2                    0.0                    0.0                   0.0   \n",
              "3                    0.0                    0.0                   0.0   \n",
              "4                    1.0                    0.0                   0.0   \n",
              "\n",
              "   random label num 3_label num lo 2  random label num 3_label num lo 3  \n",
              "0                                1.0                                0.0  \n",
              "1                                0.0                                1.0  \n",
              "2                                0.0                                0.0  \n",
              "3                                0.0                                0.0  \n",
              "4                                1.0                                0.0  \n",
              "\n",
              "[5 rows x 44 columns]"
            ],
            "text/html": [
              "\n",
              "  <div id=\"df-291a4278-d7a2-4794-bfb8-ee7481c292a3\" class=\"colab-df-container\">\n",
              "    <div>\n",
              "<style scoped>\n",
              "    .dataframe tbody tr th:only-of-type {\n",
              "        vertical-align: middle;\n",
              "    }\n",
              "\n",
              "    .dataframe tbody tr th {\n",
              "        vertical-align: top;\n",
              "    }\n",
              "\n",
              "    .dataframe thead th {\n",
              "        text-align: right;\n",
              "    }\n",
              "</style>\n",
              "<table border=\"1\" class=\"dataframe\">\n",
              "  <thead>\n",
              "    <tr style=\"text-align: right;\">\n",
              "      <th></th>\n",
              "      <th>binary</th>\n",
              "      <th>given_name</th>\n",
              "      <th>surname</th>\n",
              "      <th>date_of_birth</th>\n",
              "      <th>phone_number</th>\n",
              "      <th>email</th>\n",
              "      <th>address</th>\n",
              "      <th>city</th>\n",
              "      <th>state</th>\n",
              "      <th>zipcode</th>\n",
              "      <th>...</th>\n",
              "      <th>semi_constant_2_q_const_0_1</th>\n",
              "      <th>semi_constant_2_q_const_0_2</th>\n",
              "      <th>pd qcut2_Q2</th>\n",
              "      <th>pd qcut2_Q3</th>\n",
              "      <th>pd qcut2_Q4</th>\n",
              "      <th>random choice 4_North</th>\n",
              "      <th>random choice 4_South</th>\n",
              "      <th>random choice 4_West</th>\n",
              "      <th>random label num 3_label num lo 2</th>\n",
              "      <th>random label num 3_label num lo 3</th>\n",
              "    </tr>\n",
              "  </thead>\n",
              "  <tbody>\n",
              "    <tr>\n",
              "      <th>0</th>\n",
              "      <td>0</td>\n",
              "      <td>0.512</td>\n",
              "      <td>0.007</td>\n",
              "      <td>0.001</td>\n",
              "      <td>0.001</td>\n",
              "      <td>0.001</td>\n",
              "      <td>0.001</td>\n",
              "      <td>0.001</td>\n",
              "      <td>0.574</td>\n",
              "      <td>0.382</td>\n",
              "      <td>...</td>\n",
              "      <td>0.0</td>\n",
              "      <td>0.0</td>\n",
              "      <td>1.0</td>\n",
              "      <td>0.0</td>\n",
              "      <td>0.0</td>\n",
              "      <td>0.0</td>\n",
              "      <td>0.0</td>\n",
              "      <td>0.0</td>\n",
              "      <td>1.0</td>\n",
              "      <td>0.0</td>\n",
              "    </tr>\n",
              "    <tr>\n",
              "      <th>1</th>\n",
              "      <td>0</td>\n",
              "      <td>0.004</td>\n",
              "      <td>0.003</td>\n",
              "      <td>0.001</td>\n",
              "      <td>0.001</td>\n",
              "      <td>0.001</td>\n",
              "      <td>0.001</td>\n",
              "      <td>0.376</td>\n",
              "      <td>0.574</td>\n",
              "      <td>0.001</td>\n",
              "      <td>...</td>\n",
              "      <td>0.0</td>\n",
              "      <td>0.0</td>\n",
              "      <td>0.0</td>\n",
              "      <td>1.0</td>\n",
              "      <td>0.0</td>\n",
              "      <td>1.0</td>\n",
              "      <td>0.0</td>\n",
              "      <td>0.0</td>\n",
              "      <td>0.0</td>\n",
              "      <td>1.0</td>\n",
              "    </tr>\n",
              "    <tr>\n",
              "      <th>2</th>\n",
              "      <td>0</td>\n",
              "      <td>0.003</td>\n",
              "      <td>0.001</td>\n",
              "      <td>0.052</td>\n",
              "      <td>0.001</td>\n",
              "      <td>0.001</td>\n",
              "      <td>0.001</td>\n",
              "      <td>0.001</td>\n",
              "      <td>0.007</td>\n",
              "      <td>0.001</td>\n",
              "      <td>...</td>\n",
              "      <td>0.0</td>\n",
              "      <td>0.0</td>\n",
              "      <td>0.0</td>\n",
              "      <td>1.0</td>\n",
              "      <td>0.0</td>\n",
              "      <td>0.0</td>\n",
              "      <td>0.0</td>\n",
              "      <td>0.0</td>\n",
              "      <td>0.0</td>\n",
              "      <td>0.0</td>\n",
              "    </tr>\n",
              "    <tr>\n",
              "      <th>3</th>\n",
              "      <td>0</td>\n",
              "      <td>0.003</td>\n",
              "      <td>0.010</td>\n",
              "      <td>0.001</td>\n",
              "      <td>0.001</td>\n",
              "      <td>0.001</td>\n",
              "      <td>0.001</td>\n",
              "      <td>0.001</td>\n",
              "      <td>0.008</td>\n",
              "      <td>0.382</td>\n",
              "      <td>...</td>\n",
              "      <td>0.0</td>\n",
              "      <td>0.0</td>\n",
              "      <td>1.0</td>\n",
              "      <td>0.0</td>\n",
              "      <td>0.0</td>\n",
              "      <td>0.0</td>\n",
              "      <td>0.0</td>\n",
              "      <td>0.0</td>\n",
              "      <td>0.0</td>\n",
              "      <td>0.0</td>\n",
              "    </tr>\n",
              "    <tr>\n",
              "      <th>4</th>\n",
              "      <td>0</td>\n",
              "      <td>0.512</td>\n",
              "      <td>0.001</td>\n",
              "      <td>0.001</td>\n",
              "      <td>0.001</td>\n",
              "      <td>0.001</td>\n",
              "      <td>0.001</td>\n",
              "      <td>0.376</td>\n",
              "      <td>0.007</td>\n",
              "      <td>0.001</td>\n",
              "      <td>...</td>\n",
              "      <td>0.0</td>\n",
              "      <td>0.0</td>\n",
              "      <td>1.0</td>\n",
              "      <td>0.0</td>\n",
              "      <td>0.0</td>\n",
              "      <td>1.0</td>\n",
              "      <td>0.0</td>\n",
              "      <td>0.0</td>\n",
              "      <td>1.0</td>\n",
              "      <td>0.0</td>\n",
              "    </tr>\n",
              "  </tbody>\n",
              "</table>\n",
              "<p>5 rows × 44 columns</p>\n",
              "</div>\n",
              "    <div class=\"colab-df-buttons\">\n",
              "\n",
              "  <div class=\"colab-df-container\">\n",
              "    <button class=\"colab-df-convert\" onclick=\"convertToInteractive('df-291a4278-d7a2-4794-bfb8-ee7481c292a3')\"\n",
              "            title=\"Convert this dataframe to an interactive table.\"\n",
              "            style=\"display:none;\">\n",
              "\n",
              "  <svg xmlns=\"http://www.w3.org/2000/svg\" height=\"24px\" viewBox=\"0 -960 960 960\">\n",
              "    <path d=\"M120-120v-720h720v720H120Zm60-500h600v-160H180v160Zm220 220h160v-160H400v160Zm0 220h160v-160H400v160ZM180-400h160v-160H180v160Zm440 0h160v-160H620v160ZM180-180h160v-160H180v160Zm440 0h160v-160H620v160Z\"/>\n",
              "  </svg>\n",
              "    </button>\n",
              "\n",
              "  <style>\n",
              "    .colab-df-container {\n",
              "      display:flex;\n",
              "      gap: 12px;\n",
              "    }\n",
              "\n",
              "    .colab-df-convert {\n",
              "      background-color: #E8F0FE;\n",
              "      border: none;\n",
              "      border-radius: 50%;\n",
              "      cursor: pointer;\n",
              "      display: none;\n",
              "      fill: #1967D2;\n",
              "      height: 32px;\n",
              "      padding: 0 0 0 0;\n",
              "      width: 32px;\n",
              "    }\n",
              "\n",
              "    .colab-df-convert:hover {\n",
              "      background-color: #E2EBFA;\n",
              "      box-shadow: 0px 1px 2px rgba(60, 64, 67, 0.3), 0px 1px 3px 1px rgba(60, 64, 67, 0.15);\n",
              "      fill: #174EA6;\n",
              "    }\n",
              "\n",
              "    .colab-df-buttons div {\n",
              "      margin-bottom: 4px;\n",
              "    }\n",
              "\n",
              "    [theme=dark] .colab-df-convert {\n",
              "      background-color: #3B4455;\n",
              "      fill: #D2E3FC;\n",
              "    }\n",
              "\n",
              "    [theme=dark] .colab-df-convert:hover {\n",
              "      background-color: #434B5C;\n",
              "      box-shadow: 0px 1px 3px 1px rgba(0, 0, 0, 0.15);\n",
              "      filter: drop-shadow(0px 1px 2px rgba(0, 0, 0, 0.3));\n",
              "      fill: #FFFFFF;\n",
              "    }\n",
              "  </style>\n",
              "\n",
              "    <script>\n",
              "      const buttonEl =\n",
              "        document.querySelector('#df-291a4278-d7a2-4794-bfb8-ee7481c292a3 button.colab-df-convert');\n",
              "      buttonEl.style.display =\n",
              "        google.colab.kernel.accessAllowed ? 'block' : 'none';\n",
              "\n",
              "      async function convertToInteractive(key) {\n",
              "        const element = document.querySelector('#df-291a4278-d7a2-4794-bfb8-ee7481c292a3');\n",
              "        const dataTable =\n",
              "          await google.colab.kernel.invokeFunction('convertToInteractive',\n",
              "                                                    [key], {});\n",
              "        if (!dataTable) return;\n",
              "\n",
              "        const docLinkHtml = 'Like what you see? Visit the ' +\n",
              "          '<a target=\"_blank\" href=https://colab.research.google.com/notebooks/data_table.ipynb>data table notebook</a>'\n",
              "          + ' to learn more about interactive tables.';\n",
              "        element.innerHTML = '';\n",
              "        dataTable['output_type'] = 'display_data';\n",
              "        await google.colab.output.renderOutput(dataTable, element);\n",
              "        const docLink = document.createElement('div');\n",
              "        docLink.innerHTML = docLinkHtml;\n",
              "        element.appendChild(docLink);\n",
              "      }\n",
              "    </script>\n",
              "  </div>\n",
              "\n",
              "\n",
              "<div id=\"df-17f41404-d1d0-4209-8c0a-505b6d1ad2a4\">\n",
              "  <button class=\"colab-df-quickchart\" onclick=\"quickchart('df-17f41404-d1d0-4209-8c0a-505b6d1ad2a4')\"\n",
              "            title=\"Suggest charts\"\n",
              "            style=\"display:none;\">\n",
              "\n",
              "<svg xmlns=\"http://www.w3.org/2000/svg\" height=\"24px\"viewBox=\"0 0 24 24\"\n",
              "     width=\"24px\">\n",
              "    <g>\n",
              "        <path d=\"M19 3H5c-1.1 0-2 .9-2 2v14c0 1.1.9 2 2 2h14c1.1 0 2-.9 2-2V5c0-1.1-.9-2-2-2zM9 17H7v-7h2v7zm4 0h-2V7h2v10zm4 0h-2v-4h2v4z\"/>\n",
              "    </g>\n",
              "</svg>\n",
              "  </button>\n",
              "\n",
              "<style>\n",
              "  .colab-df-quickchart {\n",
              "      --bg-color: #E8F0FE;\n",
              "      --fill-color: #1967D2;\n",
              "      --hover-bg-color: #E2EBFA;\n",
              "      --hover-fill-color: #174EA6;\n",
              "      --disabled-fill-color: #AAA;\n",
              "      --disabled-bg-color: #DDD;\n",
              "  }\n",
              "\n",
              "  [theme=dark] .colab-df-quickchart {\n",
              "      --bg-color: #3B4455;\n",
              "      --fill-color: #D2E3FC;\n",
              "      --hover-bg-color: #434B5C;\n",
              "      --hover-fill-color: #FFFFFF;\n",
              "      --disabled-bg-color: #3B4455;\n",
              "      --disabled-fill-color: #666;\n",
              "  }\n",
              "\n",
              "  .colab-df-quickchart {\n",
              "    background-color: var(--bg-color);\n",
              "    border: none;\n",
              "    border-radius: 50%;\n",
              "    cursor: pointer;\n",
              "    display: none;\n",
              "    fill: var(--fill-color);\n",
              "    height: 32px;\n",
              "    padding: 0;\n",
              "    width: 32px;\n",
              "  }\n",
              "\n",
              "  .colab-df-quickchart:hover {\n",
              "    background-color: var(--hover-bg-color);\n",
              "    box-shadow: 0 1px 2px rgba(60, 64, 67, 0.3), 0 1px 3px 1px rgba(60, 64, 67, 0.15);\n",
              "    fill: var(--button-hover-fill-color);\n",
              "  }\n",
              "\n",
              "  .colab-df-quickchart-complete:disabled,\n",
              "  .colab-df-quickchart-complete:disabled:hover {\n",
              "    background-color: var(--disabled-bg-color);\n",
              "    fill: var(--disabled-fill-color);\n",
              "    box-shadow: none;\n",
              "  }\n",
              "\n",
              "  .colab-df-spinner {\n",
              "    border: 2px solid var(--fill-color);\n",
              "    border-color: transparent;\n",
              "    border-bottom-color: var(--fill-color);\n",
              "    animation:\n",
              "      spin 1s steps(1) infinite;\n",
              "  }\n",
              "\n",
              "  @keyframes spin {\n",
              "    0% {\n",
              "      border-color: transparent;\n",
              "      border-bottom-color: var(--fill-color);\n",
              "      border-left-color: var(--fill-color);\n",
              "    }\n",
              "    20% {\n",
              "      border-color: transparent;\n",
              "      border-left-color: var(--fill-color);\n",
              "      border-top-color: var(--fill-color);\n",
              "    }\n",
              "    30% {\n",
              "      border-color: transparent;\n",
              "      border-left-color: var(--fill-color);\n",
              "      border-top-color: var(--fill-color);\n",
              "      border-right-color: var(--fill-color);\n",
              "    }\n",
              "    40% {\n",
              "      border-color: transparent;\n",
              "      border-right-color: var(--fill-color);\n",
              "      border-top-color: var(--fill-color);\n",
              "    }\n",
              "    60% {\n",
              "      border-color: transparent;\n",
              "      border-right-color: var(--fill-color);\n",
              "    }\n",
              "    80% {\n",
              "      border-color: transparent;\n",
              "      border-right-color: var(--fill-color);\n",
              "      border-bottom-color: var(--fill-color);\n",
              "    }\n",
              "    90% {\n",
              "      border-color: transparent;\n",
              "      border-bottom-color: var(--fill-color);\n",
              "    }\n",
              "  }\n",
              "</style>\n",
              "\n",
              "  <script>\n",
              "    async function quickchart(key) {\n",
              "      const quickchartButtonEl =\n",
              "        document.querySelector('#' + key + ' button');\n",
              "      quickchartButtonEl.disabled = true;  // To prevent multiple clicks.\n",
              "      quickchartButtonEl.classList.add('colab-df-spinner');\n",
              "      try {\n",
              "        const charts = await google.colab.kernel.invokeFunction(\n",
              "            'suggestCharts', [key], {});\n",
              "      } catch (error) {\n",
              "        console.error('Error during call to suggestCharts:', error);\n",
              "      }\n",
              "      quickchartButtonEl.classList.remove('colab-df-spinner');\n",
              "      quickchartButtonEl.classList.add('colab-df-quickchart-complete');\n",
              "    }\n",
              "    (() => {\n",
              "      let quickchartButtonEl =\n",
              "        document.querySelector('#df-17f41404-d1d0-4209-8c0a-505b6d1ad2a4 button');\n",
              "      quickchartButtonEl.style.display =\n",
              "        google.colab.kernel.accessAllowed ? 'block' : 'none';\n",
              "    })();\n",
              "  </script>\n",
              "</div>\n",
              "\n",
              "    </div>\n",
              "  </div>\n"
            ],
            "application/vnd.google.colaboratory.intrinsic+json": {
              "type": "dataframe",
              "variable_name": "df"
            }
          },
          "metadata": {},
          "execution_count": 61
        }
      ]
    },
    {
      "cell_type": "markdown",
      "source": [
        "## Train Test Split"
      ],
      "metadata": {
        "id": "Oc6VU37OoCyb"
      }
    },
    {
      "cell_type": "code",
      "source": [
        "# seed\n",
        "import random\n",
        "\n",
        "seed_id = 11807983\n",
        "random_state = random.seed(seed_id)\n",
        "random_state"
      ],
      "metadata": {
        "id": "2w9ihcyFlend"
      },
      "execution_count": null,
      "outputs": []
    },
    {
      "cell_type": "code",
      "source": [
        "from google.colab import drive\n",
        "drive.mount('/content/drive')"
      ],
      "metadata": {
        "id": "QbXvPO_CNP8N",
        "colab": {
          "base_uri": "https://localhost:8080/"
        },
        "outputId": "786295b2-a5d3-420c-e160-48c40310803e"
      },
      "execution_count": null,
      "outputs": [
        {
          "output_type": "stream",
          "name": "stdout",
          "text": [
            "Drive already mounted at /content/drive; to attempt to forcibly remount, call drive.mount(\"/content/drive\", force_remount=True).\n"
          ]
        }
      ]
    },
    {
      "cell_type": "code",
      "source": [
        "from sklearn.model_selection import train_test_split\n",
        "\n",
        "X_train, X_test, y_train, y_test = train_test_split(df.drop('class', axis=1), df['class'], test_size=0.3, random_state=random_state)\n",
        "X_train.shape, X_test.shape"
      ],
      "metadata": {
        "id": "RcrWm0I4oEy2",
        "colab": {
          "base_uri": "https://localhost:8080/"
        },
        "outputId": "08a11782-6758-48c9-fac7-fcbb835a62a0"
      },
      "execution_count": null,
      "outputs": [
        {
          "output_type": "execute_result",
          "data": {
            "text/plain": [
              "((700, 43), (300, 43))"
            ]
          },
          "metadata": {},
          "execution_count": 64
        }
      ]
    },
    {
      "cell_type": "markdown",
      "source": [
        "### Mutual Information"
      ],
      "metadata": {
        "id": "rb9tIdNp8J8v"
      }
    },
    {
      "cell_type": "code",
      "source": [
        "# mutual information\n",
        "import matplotlib.pyplot as plt\n",
        "from sklearn.feature_selection import mutual_info_regression, mutual_info_classif\n",
        "\n",
        "mi = mutual_info_classif(X_train, y_train)\n",
        "mi = pd.Series(mi)\n",
        "mi.index = X_train.columns\n",
        "mi.sort_values(ascending=False).plot.bar()\n",
        "plt.ylabel('Mutual Information');"
      ],
      "metadata": {
        "id": "SKFraXeRtr44",
        "colab": {
          "base_uri": "https://localhost:8080/",
          "height": 691
        },
        "outputId": "080dff6c-fa3c-42b3-903e-08c5fb21b1af"
      },
      "execution_count": null,
      "outputs": [
        {
          "output_type": "display_data",
          "data": {
            "text/plain": [
              "<Figure size 640x480 with 1 Axes>"
            ],
            "image/png": "[encoded data removed]"
          },
          "metadata": {}
        }
      ]
    },
    {
      "cell_type": "code",
      "source": [
        "mi_keepers = mi.sort_values(ascending=False).index[:5]\n",
        "print(mi_keepers)"
      ],
      "metadata": {
        "id": "f-UYVaIuwb6n",
        "colab": {
          "base_uri": "https://localhost:8080/"
        },
        "outputId": "e904d2a5-271a-4f1c-c3ad-a952bba3a49b"
      },
      "execution_count": null,
      "outputs": [
        {
          "output_type": "stream",
          "name": "stdout",
          "text": [
            "Index(['informative_2', 'target', 'pd qcut1', 'corr_feature_class',\n",
            "       'uniform corr 2'],\n",
            "      dtype='object')\n"
          ]
        }
      ]
    },
    {
      "cell_type": "markdown",
      "source": [
        "### SelectKBest"
      ],
      "metadata": {
        "id": "vRo1hgSE8Qy1"
      }
    },
    {
      "cell_type": "code",
      "source": [
        "# SelectKBest\n",
        "from sklearn.feature_selection import SelectKBest, f_regression, f_classif\n",
        "\n",
        "selector = SelectKBest(f_classif, k=5) # Select the top 5 features\n",
        "X_new = selector.fit(X_train, y_train)\n",
        "\n",
        "kb_keepers = X_train.columns.values[selector.get_support()]\n",
        "print(kb_keepers)"
      ],
      "metadata": {
        "id": "PExIjwjzuw_Q",
        "colab": {
          "base_uri": "https://localhost:8080/"
        },
        "outputId": "ce4b59ff-8394-4c06-d9cc-7dcc67755f5f"
      },
      "execution_count": null,
      "outputs": [
        {
          "output_type": "stream",
          "name": "stdout",
          "text": [
            "['pd qcut3' 'informative_2' 'pd qcut1' 'target' 'uniform corr 2']\n"
          ]
        }
      ]
    },
    {
      "cell_type": "markdown",
      "source": [
        "### Select From Model"
      ],
      "metadata": {
        "id": "fjR1U4GM8Tyw"
      }
    },
    {
      "source": [
        "# Select from model\n",
        "import numpy as np\n",
        "from sklearn.linear_model import LinearRegression, LogisticRegression\n",
        "from sklearn.feature_selection import SelectFromModel\n",
        "from sklearn.preprocessing import StandardScaler\n",
        "\n",
        "scaler = StandardScaler()\n",
        "scaler.fit(X_train)\n",
        "X_scaled = scaler.transform(X_train)\n",
        "\n",
        "selections = SelectFromModel(estimator=LogisticRegression()).fit(X_scaled, y_train)\n",
        "mt_keepers = X_train.columns.values[selections.get_support()]\n",
        "print(mt_keepers)"
      ],
      "cell_type": "code",
      "metadata": {
        "id": "DkRDmJWchp0Z",
        "colab": {
          "base_uri": "https://localhost:8080/"
        },
        "outputId": "c3141e63-880e-409a-b0fb-e2e8243ed2be"
      },
      "execution_count": null,
      "outputs": [
        {
          "output_type": "stream",
          "name": "stdout",
          "text": [
            "['address' 'duplicate_1' 'informative_2' 'multicollinearity 3' 'target'\n",
            " 'random label num 13' 'corr_feature_class' 'outliers 1'\n",
            " 'multicollinearity 2' 'semi_constant_2_q_const_0_2' 'pd qcut2_Q2'\n",
            " 'pd qcut2_Q4' 'random choice 4_South']\n"
          ]
        }
      ]
    },
    {
      "cell_type": "markdown",
      "source": [
        "### Recursive Feature Elmination"
      ],
      "metadata": {
        "id": "Hum_dCtv8XfC"
      }
    },
    {
      "cell_type": "code",
      "source": [
        "from sklearn.feature_selection import RFE\n",
        "from sklearn.linear_model import LinearRegression, LogisticRegression\n",
        "\n",
        "estimator = LogisticRegression()\n",
        "selector = RFE(estimator, n_features_to_select=5) # Select the top 5 features\n",
        "X_new = selector.fit_transform(X_scaled, y_train)\n",
        "rf_keepers = X_train.columns.values[selections.get_support()]\n",
        "print(rf_keepers)"
      ],
      "metadata": {
        "id": "epn6N1WTvyNX",
        "colab": {
          "base_uri": "https://localhost:8080/"
        },
        "outputId": "460da009-c5a4-4a0e-a81f-c90f823ca46a"
      },
      "execution_count": null,
      "outputs": [
        {
          "output_type": "stream",
          "name": "stdout",
          "text": [
            "['address' 'duplicate_1' 'informative_2' 'multicollinearity 3' 'target'\n",
            " 'random label num 13' 'corr_feature_class' 'outliers 1'\n",
            " 'multicollinearity 2' 'semi_constant_2_q_const_0_2' 'pd qcut2_Q2'\n",
            " 'pd qcut2_Q4' 'random choice 4_South']\n"
          ]
        }
      ]
    },
    {
      "cell_type": "markdown",
      "source": [
        "### Review Pickled Variables\n",
        "\n",
        "* Correlated features\n",
        "* VIF\n",
        "* Outliers"
      ],
      "metadata": {
        "id": "CQ7VwY3ABUsa"
      }
    },
    {
      "cell_type": "markdown",
      "source": [
        "### Random Forest Importance\n"
      ],
      "metadata": {
        "id": "wPvl0kTMe3e4"
      }
    },
    {
      "cell_type": "code",
      "source": [
        "# random forest importance\n",
        "from sklearn.ensemble import RandomForestClassifier, RandomForestRegressor\n",
        "from sklearn.feature_selection import SelectFromModel\n",
        "\n",
        "selects = SelectFromModel(RandomForestClassifier(n_estimators=100, random_state=random_state), max_features=4)\n",
        "selects.fit(X_train, y_train)\n",
        "rfi = X_train.columns[(selects.get_support())]\n",
        "rfi.tolist()"
      ],
      "metadata": {
        "id": "VaMYAQmnfGRp",
        "colab": {
          "base_uri": "https://localhost:8080/"
        },
        "outputId": "aff3e331-0048-4041-958c-2b8ff9e5f5a5"
      },
      "execution_count": null,
      "outputs": [
        {
          "output_type": "execute_result",
          "data": {
            "text/plain": [
              "['informative_2', 'pd qcut1', 'target', 'corr_feature_class']"
            ]
          },
          "metadata": {},
          "execution_count": 70
        }
      ]
    },
    {
      "cell_type": "markdown",
      "source": [
        "Scenario: We are trying to classify if a user will subscribe to our YouTube channel.\n",
        "\n",
        "Lets grab the first four features from feature importance and rename them using the following suggestions:\n",
        "\n",
        "**Numerical Features**\n",
        "\n",
        "*   **Watch Time (seconds)**: Measures the total time viewers spend watching your videos.\n",
        "*   **Average View Duration (seconds)**: The average length of time viewers watch a single video.\n",
        "*   **Click-Through Rate (CTR)**: The percentage of viewers who click on your video after seeing the thumbnail/title.\n",
        "*   **Comments per Video**: The number of comments on each video.\n",
        "*   **Shares per Video**: The number of times each video is shared.\n",
        "*   **Likes per Video**: The number of likes on each video.\n",
        "*   **Dislikes per Video**: The number of dislikes on each video.\n",
        "*   **Subscribers Gained per Video**: The number of subscribers gained after a video is published.\n",
        "*   **Views per Video**: The total number of views for each video.\n",
        "\n",
        "**Categorical Features**\n",
        "\n",
        "*   **Video Category**: The category or genre of the video (e.g., tutorial, review, vlog).\n",
        "*   **Upload Frequency**: How often you upload videos (e.g., daily, weekly, monthly).\n",
        "*   **Video Length**: Categorize videos based on length (e.g., short, medium, long).\n",
        "*   **Thumbnail Type**: The type of thumbnail used (e.g., image, text overlay, face).\n",
        "*   **Use of Background Music**: Whether the video uses background music or not.\n",
        "*   **Use of End Screens**: Whether the video includes end screens or not.\n",
        "*   **Viewer Gender**: The dominant gender of your viewers (if available).\n",
        "*   **Viewer Age**: The dominant age group of your viewers (if available).\n",
        "*   **Viewer Location**: The primary location of your viewers (if available).\n",
        "\n",
        "**Discrete Features**\n",
        "\n",
        "*   **Number of Videos Uploaded**: The total number of videos on your channel.\n",
        "*   **Channel Age (months)**: The age of your YouTube channel.\n",
        "*   **Number of Playlists**: The total number of playlists on your channel.\n",
        "*   **Use of Subtitles**: Whether your videos include subtitles (0 or 1).\n",
        "*   **Use of Closed Captions**: Whether your videos include closed captions (0 or 1).\n",
        "*   **Viewer Engagement Level**: Categorize viewer engagement into levels (e.g., low, medium, high).\n",
        "*   **Video Quality**: Categorize video quality (e.g., low, medium, high).\n",
        "*   **Subscriber Count**: The total number of subscribers to your channel.\n",
        "\n",
        "\n",
        "\n"
      ],
      "metadata": {
        "id": "fJ7tH75NfZom"
      }
    },
    {
      "cell_type": "code",
      "source": [
        "features_to_model = rfi\n",
        "X_train[features_to_model].head()"
      ],
      "metadata": {
        "id": "VFzff6aCfefd",
        "colab": {
          "base_uri": "https://localhost:8080/",
          "height": 206
        },
        "outputId": "0834611c-9beb-48a1-f37c-d6705a22b6d4"
      },
      "execution_count": null,
      "outputs": [
        {
          "output_type": "execute_result",
          "data": {
            "text/plain": [
              "     informative_2  pd qcut1    target  corr_feature_class\n",
              "330       0.913557         1  2.292329            1.787737\n",
              "694      -0.844179         0 -1.833273            1.109600\n",
              "929      -0.854750         0 -2.108678            2.002136\n",
              "788       2.275485         1  4.397835            0.204159\n",
              "922      -1.412710         0 -3.052634            2.334248"
            ],
            "text/html": [
              "\n",
              "  <div id=\"df-ba9386bd-13f7-41be-ad41-1bdba9ec966b\" class=\"colab-df-container\">\n",
              "    <div>\n",
              "<style scoped>\n",
              "    .dataframe tbody tr th:only-of-type {\n",
              "        vertical-align: middle;\n",
              "    }\n",
              "\n",
              "    .dataframe tbody tr th {\n",
              "        vertical-align: top;\n",
              "    }\n",
              "\n",
              "    .dataframe thead th {\n",
              "        text-align: right;\n",
              "    }\n",
              "</style>\n",
              "<table border=\"1\" class=\"dataframe\">\n",
              "  <thead>\n",
              "    <tr style=\"text-align: right;\">\n",
              "      <th></th>\n",
              "      <th>informative_2</th>\n",
              "      <th>pd qcut1</th>\n",
              "      <th>target</th>\n",
              "      <th>corr_feature_class</th>\n",
              "    </tr>\n",
              "  </thead>\n",
              "  <tbody>\n",
              "    <tr>\n",
              "      <th>330</th>\n",
              "      <td>0.913557</td>\n",
              "      <td>1</td>\n",
              "      <td>2.292329</td>\n",
              "      <td>1.787737</td>\n",
              "    </tr>\n",
              "    <tr>\n",
              "      <th>694</th>\n",
              "      <td>-0.844179</td>\n",
              "      <td>0</td>\n",
              "      <td>-1.833273</td>\n",
              "      <td>1.109600</td>\n",
              "    </tr>\n",
              "    <tr>\n",
              "      <th>929</th>\n",
              "      <td>-0.854750</td>\n",
              "      <td>0</td>\n",
              "      <td>-2.108678</td>\n",
              "      <td>2.002136</td>\n",
              "    </tr>\n",
              "    <tr>\n",
              "      <th>788</th>\n",
              "      <td>2.275485</td>\n",
              "      <td>1</td>\n",
              "      <td>4.397835</td>\n",
              "      <td>0.204159</td>\n",
              "    </tr>\n",
              "    <tr>\n",
              "      <th>922</th>\n",
              "      <td>-1.412710</td>\n",
              "      <td>0</td>\n",
              "      <td>-3.052634</td>\n",
              "      <td>2.334248</td>\n",
              "    </tr>\n",
              "  </tbody>\n",
              "</table>\n",
              "</div>\n",
              "    <div class=\"colab-df-buttons\">\n",
              "\n",
              "  <div class=\"colab-df-container\">\n",
              "    <button class=\"colab-df-convert\" onclick=\"convertToInteractive('df-ba9386bd-13f7-41be-ad41-1bdba9ec966b')\"\n",
              "            title=\"Convert this dataframe to an interactive table.\"\n",
              "            style=\"display:none;\">\n",
              "\n",
              "  <svg xmlns=\"http://www.w3.org/2000/svg\" height=\"24px\" viewBox=\"0 -960 960 960\">\n",
              "    <path d=\"M120-120v-720h720v720H120Zm60-500h600v-160H180v160Zm220 220h160v-160H400v160Zm0 220h160v-160H400v160ZM180-400h160v-160H180v160Zm440 0h160v-160H620v160ZM180-180h160v-160H180v160Zm440 0h160v-160H620v160Z\"/>\n",
              "  </svg>\n",
              "    </button>\n",
              "\n",
              "  <style>\n",
              "    .colab-df-container {\n",
              "      display:flex;\n",
              "      gap: 12px;\n",
              "    }\n",
              "\n",
              "    .colab-df-convert {\n",
              "      background-color: #E8F0FE;\n",
              "      border: none;\n",
              "      border-radius: 50%;\n",
              "      cursor: pointer;\n",
              "      display: none;\n",
              "      fill: #1967D2;\n",
              "      height: 32px;\n",
              "      padding: 0 0 0 0;\n",
              "      width: 32px;\n",
              "    }\n",
              "\n",
              "    .colab-df-convert:hover {\n",
              "      background-color: #E2EBFA;\n",
              "      box-shadow: 0px 1px 2px rgba(60, 64, 67, 0.3), 0px 1px 3px 1px rgba(60, 64, 67, 0.15);\n",
              "      fill: #174EA6;\n",
              "    }\n",
              "\n",
              "    .colab-df-buttons div {\n",
              "      margin-bottom: 4px;\n",
              "    }\n",
              "\n",
              "    [theme=dark] .colab-df-convert {\n",
              "      background-color: #3B4455;\n",
              "      fill: #D2E3FC;\n",
              "    }\n",
              "\n",
              "    [theme=dark] .colab-df-convert:hover {\n",
              "      background-color: #434B5C;\n",
              "      box-shadow: 0px 1px 3px 1px rgba(0, 0, 0, 0.15);\n",
              "      filter: drop-shadow(0px 1px 2px rgba(0, 0, 0, 0.3));\n",
              "      fill: #FFFFFF;\n",
              "    }\n",
              "  </style>\n",
              "\n",
              "    <script>\n",
              "      const buttonEl =\n",
              "        document.querySelector('#df-ba9386bd-13f7-41be-ad41-1bdba9ec966b button.colab-df-convert');\n",
              "      buttonEl.style.display =\n",
              "        google.colab.kernel.accessAllowed ? 'block' : 'none';\n",
              "\n",
              "      async function convertToInteractive(key) {\n",
              "        const element = document.querySelector('#df-ba9386bd-13f7-41be-ad41-1bdba9ec966b');\n",
              "        const dataTable =\n",
              "          await google.colab.kernel.invokeFunction('convertToInteractive',\n",
              "                                                    [key], {});\n",
              "        if (!dataTable) return;\n",
              "\n",
              "        const docLinkHtml = 'Like what you see? Visit the ' +\n",
              "          '<a target=\"_blank\" href=https://colab.research.google.com/notebooks/data_table.ipynb>data table notebook</a>'\n",
              "          + ' to learn more about interactive tables.';\n",
              "        element.innerHTML = '';\n",
              "        dataTable['output_type'] = 'display_data';\n",
              "        await google.colab.output.renderOutput(dataTable, element);\n",
              "        const docLink = document.createElement('div');\n",
              "        docLink.innerHTML = docLinkHtml;\n",
              "        element.appendChild(docLink);\n",
              "      }\n",
              "    </script>\n",
              "  </div>\n",
              "\n",
              "\n",
              "<div id=\"df-ff0f7551-121c-486a-971a-e91a82881232\">\n",
              "  <button class=\"colab-df-quickchart\" onclick=\"quickchart('df-ff0f7551-121c-486a-971a-e91a82881232')\"\n",
              "            title=\"Suggest charts\"\n",
              "            style=\"display:none;\">\n",
              "\n",
              "<svg xmlns=\"http://www.w3.org/2000/svg\" height=\"24px\"viewBox=\"0 0 24 24\"\n",
              "     width=\"24px\">\n",
              "    <g>\n",
              "        <path d=\"M19 3H5c-1.1 0-2 .9-2 2v14c0 1.1.9 2 2 2h14c1.1 0 2-.9 2-2V5c0-1.1-.9-2-2-2zM9 17H7v-7h2v7zm4 0h-2V7h2v10zm4 0h-2v-4h2v4z\"/>\n",
              "    </g>\n",
              "</svg>\n",
              "  </button>\n",
              "\n",
              "<style>\n",
              "  .colab-df-quickchart {\n",
              "      --bg-color: #E8F0FE;\n",
              "      --fill-color: #1967D2;\n",
              "      --hover-bg-color: #E2EBFA;\n",
              "      --hover-fill-color: #174EA6;\n",
              "      --disabled-fill-color: #AAA;\n",
              "      --disabled-bg-color: #DDD;\n",
              "  }\n",
              "\n",
              "  [theme=dark] .colab-df-quickchart {\n",
              "      --bg-color: #3B4455;\n",
              "      --fill-color: #D2E3FC;\n",
              "      --hover-bg-color: #434B5C;\n",
              "      --hover-fill-color: #FFFFFF;\n",
              "      --disabled-bg-color: #3B4455;\n",
              "      --disabled-fill-color: #666;\n",
              "  }\n",
              "\n",
              "  .colab-df-quickchart {\n",
              "    background-color: var(--bg-color);\n",
              "    border: none;\n",
              "    border-radius: 50%;\n",
              "    cursor: pointer;\n",
              "    display: none;\n",
              "    fill: var(--fill-color);\n",
              "    height: 32px;\n",
              "    padding: 0;\n",
              "    width: 32px;\n",
              "  }\n",
              "\n",
              "  .colab-df-quickchart:hover {\n",
              "    background-color: var(--hover-bg-color);\n",
              "    box-shadow: 0 1px 2px rgba(60, 64, 67, 0.3), 0 1px 3px 1px rgba(60, 64, 67, 0.15);\n",
              "    fill: var(--button-hover-fill-color);\n",
              "  }\n",
              "\n",
              "  .colab-df-quickchart-complete:disabled,\n",
              "  .colab-df-quickchart-complete:disabled:hover {\n",
              "    background-color: var(--disabled-bg-color);\n",
              "    fill: var(--disabled-fill-color);\n",
              "    box-shadow: none;\n",
              "  }\n",
              "\n",
              "  .colab-df-spinner {\n",
              "    border: 2px solid var(--fill-color);\n",
              "    border-color: transparent;\n",
              "    border-bottom-color: var(--fill-color);\n",
              "    animation:\n",
              "      spin 1s steps(1) infinite;\n",
              "  }\n",
              "\n",
              "  @keyframes spin {\n",
              "    0% {\n",
              "      border-color: transparent;\n",
              "      border-bottom-color: var(--fill-color);\n",
              "      border-left-color: var(--fill-color);\n",
              "    }\n",
              "    20% {\n",
              "      border-color: transparent;\n",
              "      border-left-color: var(--fill-color);\n",
              "      border-top-color: var(--fill-color);\n",
              "    }\n",
              "    30% {\n",
              "      border-color: transparent;\n",
              "      border-left-color: var(--fill-color);\n",
              "      border-top-color: var(--fill-color);\n",
              "      border-right-color: var(--fill-color);\n",
              "    }\n",
              "    40% {\n",
              "      border-color: transparent;\n",
              "      border-right-color: var(--fill-color);\n",
              "      border-top-color: var(--fill-color);\n",
              "    }\n",
              "    60% {\n",
              "      border-color: transparent;\n",
              "      border-right-color: var(--fill-color);\n",
              "    }\n",
              "    80% {\n",
              "      border-color: transparent;\n",
              "      border-right-color: var(--fill-color);\n",
              "      border-bottom-color: var(--fill-color);\n",
              "    }\n",
              "    90% {\n",
              "      border-color: transparent;\n",
              "      border-bottom-color: var(--fill-color);\n",
              "    }\n",
              "  }\n",
              "</style>\n",
              "\n",
              "  <script>\n",
              "    async function quickchart(key) {\n",
              "      const quickchartButtonEl =\n",
              "        document.querySelector('#' + key + ' button');\n",
              "      quickchartButtonEl.disabled = true;  // To prevent multiple clicks.\n",
              "      quickchartButtonEl.classList.add('colab-df-spinner');\n",
              "      try {\n",
              "        const charts = await google.colab.kernel.invokeFunction(\n",
              "            'suggestCharts', [key], {});\n",
              "      } catch (error) {\n",
              "        console.error('Error during call to suggestCharts:', error);\n",
              "      }\n",
              "      quickchartButtonEl.classList.remove('colab-df-spinner');\n",
              "      quickchartButtonEl.classList.add('colab-df-quickchart-complete');\n",
              "    }\n",
              "    (() => {\n",
              "      let quickchartButtonEl =\n",
              "        document.querySelector('#df-ff0f7551-121c-486a-971a-e91a82881232 button');\n",
              "      quickchartButtonEl.style.display =\n",
              "        google.colab.kernel.accessAllowed ? 'block' : 'none';\n",
              "    })();\n",
              "  </script>\n",
              "</div>\n",
              "\n",
              "    </div>\n",
              "  </div>\n"
            ],
            "application/vnd.google.colaboratory.intrinsic+json": {
              "type": "dataframe",
              "summary": "{\n  \"name\": \"X_train[features_to_model]\",\n  \"rows\": 5,\n  \"fields\": [\n    {\n      \"column\": \"informative_2\",\n      \"properties\": {\n        \"dtype\": \"number\",\n        \"std\": 1.537059504072857,\n        \"min\": -1.4127101943533424,\n        \"max\": 2.275485310133856,\n        \"num_unique_values\": 5,\n        \"samples\": [\n          -0.8441793142707129,\n          -1.4127101943533424,\n          -0.8547496777497885\n        ],\n        \"semantic_type\": \"\",\n        \"description\": \"\"\n      }\n    },\n    {\n      \"column\": \"pd qcut1\",\n      \"properties\": {\n        \"dtype\": \"number\",\n        \"std\": 0,\n        \"min\": 0,\n        \"max\": 1,\n        \"num_unique_values\": 2,\n        \"samples\": [\n          0,\n          1\n        ],\n        \"semantic_type\": \"\",\n        \"description\": \"\"\n      }\n    },\n    {\n      \"column\": \"target\",\n      \"properties\": {\n        \"dtype\": \"number\",\n        \"std\": 3.2288997568089477,\n        \"min\": -3.052633831156821,\n        \"max\": 4.39783492661685,\n        \"num_unique_values\": 5,\n        \"samples\": [\n          -1.8332729003897277,\n          -3.052633831156821\n        ],\n        \"semantic_type\": \"\",\n        \"description\": \"\"\n      }\n    },\n    {\n      \"column\": \"corr_feature_class\",\n      \"properties\": {\n        \"dtype\": \"number\",\n        \"std\": 0.8458349457173994,\n        \"min\": 0.2041592810424262,\n        \"max\": 2.334248492388139,\n        \"num_unique_values\": 5,\n        \"samples\": [\n          1.1096001739437575,\n          2.334248492388139\n        ],\n        \"semantic_type\": \"\",\n        \"description\": \"\"\n      }\n    }\n  ]\n}"
            }
          },
          "metadata": {},
          "execution_count": 71
        }
      ]
    },
    {
      "cell_type": "code",
      "source": [
        "new_column_names = {rfi[0]: 'watch_time', rfi[1]: 'avg_view_duration', rfi[2]: 'click_through_rate', rfi[3]: 'interest'}\n",
        "X_train.rename(columns=new_column_names, inplace=True)\n",
        "X_test.rename(columns=new_column_names, inplace=True)\n",
        "features_to_model = list(new_column_names.values())\n",
        "X_train = X_train[features_to_model]\n",
        "X_test = X_test[features_to_model]"
      ],
      "metadata": {
        "id": "2PpQyIprnD6_"
      },
      "execution_count": null,
      "outputs": []
    },
    {
      "cell_type": "code",
      "execution_count": null,
      "metadata": {
        "id": "NrIdASGK3LCx"
      },
      "outputs": [],
      "source": [
        "import pickle\n",
        "\n",
        "# Save the data\n",
        "with open('train_test_split.pkl', 'wb') as f:\n",
        "    pickle.dump([X_train, X_test, y_train, y_test], f)"
      ]
    },
    {
      "cell_type": "code",
      "source": [
        "import shutil\n",
        "\n",
        "# Source file path (within your Drive)\n",
        "source_file = 'train_test_split.pkl'\n",
        "\n",
        "# Destination path (root of your Drive)\n",
        "destination_path = '/content/drive/MyDrive/Colab Notebooks/train_test_split.pkl'\n",
        "\n",
        "# Copy the file\n",
        "shutil.copy(source_file, destination_path)"
      ],
      "metadata": {
        "id": "NSgcg1LLCFtB",
        "colab": {
          "base_uri": "https://localhost:8080/",
          "height": 35
        },
        "outputId": "46a188b0-6115-4bee-f580-12cd58c90f5c"
      },
      "execution_count": null,
      "outputs": [
        {
          "output_type": "execute_result",
          "data": {
            "text/plain": [
              "'/content/drive/MyDrive/Colab Notebooks/train_test_split.pkl'"
            ],
            "application/vnd.google.colaboratory.intrinsic+json": {
              "type": "string"
            }
          },
          "metadata": {},
          "execution_count": 75
        }
      ]
    }
  ]
}